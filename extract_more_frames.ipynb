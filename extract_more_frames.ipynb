{
 "cells": [
  {
   "cell_type": "code",
   "execution_count": null,
   "metadata": {},
   "outputs": [],
   "source": [
    "more_frames = {'2020-07-01_Egypt_1' : [3450 # red_sentry_building,\n",
    "                                       3675 # blu_spy_invisible,\n",
    "                                       4275 # disguising spy,\n",
    "                                       6000 # blu_spy_invisible_fire,\n",
    "                                       \n",
    "]}"
   ]
  }
 ],
 "metadata": {
  "kernelspec": {
   "display_name": "Python 3",
   "language": "python",
   "name": "python3"
  },
  "language_info": {
   "codemirror_mode": {
    "name": "ipython",
    "version": 3
   },
   "file_extension": ".py",
   "mimetype": "text/x-python",
   "name": "python",
   "nbconvert_exporter": "python",
   "pygments_lexer": "ipython3",
   "version": "3.7.6"
  }
 },
 "nbformat": 4,
 "nbformat_minor": 4
}
